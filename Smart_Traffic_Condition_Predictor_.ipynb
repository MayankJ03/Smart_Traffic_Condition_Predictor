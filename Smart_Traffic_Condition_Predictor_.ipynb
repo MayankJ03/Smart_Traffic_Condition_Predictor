{
  "nbformat": 4,
  "nbformat_minor": 0,
  "metadata": {
    "colab": {
      "provenance": [],
      "authorship_tag": "ABX9TyMp8Jna9RT/fUhcRUuoFWi5",
      "include_colab_link": true
    },
    "kernelspec": {
      "name": "python3",
      "display_name": "Python 3"
    },
    "language_info": {
      "name": "python"
    }
  },
  "cells": [
    {
      "cell_type": "markdown",
      "metadata": {
        "id": "view-in-github",
        "colab_type": "text"
      },
      "source": [
        "<a href=\"https://colab.research.google.com/github/MayankJ03/Smart_Traffic_Condition_Predictor/blob/main/Smart_Traffic_Condition_Predictor_.ipynb\" target=\"_parent\"><img src=\"https://colab.research.google.com/assets/colab-badge.svg\" alt=\"Open In Colab\"/></a>"
      ]
    },
    {
      "cell_type": "code",
      "execution_count": 11,
      "metadata": {
        "id": "csrG6gPM6ooQ"
      },
      "outputs": [],
      "source": [
        "# ✅ Step 1: Install required packages\n",
        "!pip install -q pandas scikit-learn matplotlib requests\n"
      ]
    },
    {
      "cell_type": "code",
      "source": [
        "# ✅ Step 2: Import all libraries\n",
        "import pandas as pd\n",
        "import numpy as np\n",
        "import datetime\n",
        "import requests\n",
        "import matplotlib.pyplot as plt\n",
        "from sklearn.model_selection import train_test_split\n",
        "from sklearn.ensemble import RandomForestClassifier\n",
        "from sklearn.metrics import accuracy_score, classification_report\n",
        "from IPython.display import display\n"
      ],
      "metadata": {
        "id": "0kD05vwU9iqG"
      },
      "execution_count": 12,
      "outputs": []
    },
    {
      "cell_type": "code",
      "source": [
        "# Upload Metro_Interstate_Traffic_Volume.csv from your PC\n",
        "from google.colab import files\n",
        "uploaded = files.upload()\n"
      ],
      "metadata": {
        "colab": {
          "base_uri": "https://localhost:8080/",
          "height": 73
        },
        "id": "oh28N58_9nO2",
        "outputId": "fbcf2272-5d73-4e98-bf27-9e14ea791387"
      },
      "execution_count": 13,
      "outputs": [
        {
          "output_type": "display_data",
          "data": {
            "text/plain": [
              "<IPython.core.display.HTML object>"
            ],
            "text/html": [
              "\n",
              "     <input type=\"file\" id=\"files-94e65d93-58d7-466a-85f5-add298acdea2\" name=\"files[]\" multiple disabled\n",
              "        style=\"border:none\" />\n",
              "     <output id=\"result-94e65d93-58d7-466a-85f5-add298acdea2\">\n",
              "      Upload widget is only available when the cell has been executed in the\n",
              "      current browser session. Please rerun this cell to enable.\n",
              "      </output>\n",
              "      <script>// Copyright 2017 Google LLC\n",
              "//\n",
              "// Licensed under the Apache License, Version 2.0 (the \"License\");\n",
              "// you may not use this file except in compliance with the License.\n",
              "// You may obtain a copy of the License at\n",
              "//\n",
              "//      http://www.apache.org/licenses/LICENSE-2.0\n",
              "//\n",
              "// Unless required by applicable law or agreed to in writing, software\n",
              "// distributed under the License is distributed on an \"AS IS\" BASIS,\n",
              "// WITHOUT WARRANTIES OR CONDITIONS OF ANY KIND, either express or implied.\n",
              "// See the License for the specific language governing permissions and\n",
              "// limitations under the License.\n",
              "\n",
              "/**\n",
              " * @fileoverview Helpers for google.colab Python module.\n",
              " */\n",
              "(function(scope) {\n",
              "function span(text, styleAttributes = {}) {\n",
              "  const element = document.createElement('span');\n",
              "  element.textContent = text;\n",
              "  for (const key of Object.keys(styleAttributes)) {\n",
              "    element.style[key] = styleAttributes[key];\n",
              "  }\n",
              "  return element;\n",
              "}\n",
              "\n",
              "// Max number of bytes which will be uploaded at a time.\n",
              "const MAX_PAYLOAD_SIZE = 100 * 1024;\n",
              "\n",
              "function _uploadFiles(inputId, outputId) {\n",
              "  const steps = uploadFilesStep(inputId, outputId);\n",
              "  const outputElement = document.getElementById(outputId);\n",
              "  // Cache steps on the outputElement to make it available for the next call\n",
              "  // to uploadFilesContinue from Python.\n",
              "  outputElement.steps = steps;\n",
              "\n",
              "  return _uploadFilesContinue(outputId);\n",
              "}\n",
              "\n",
              "// This is roughly an async generator (not supported in the browser yet),\n",
              "// where there are multiple asynchronous steps and the Python side is going\n",
              "// to poll for completion of each step.\n",
              "// This uses a Promise to block the python side on completion of each step,\n",
              "// then passes the result of the previous step as the input to the next step.\n",
              "function _uploadFilesContinue(outputId) {\n",
              "  const outputElement = document.getElementById(outputId);\n",
              "  const steps = outputElement.steps;\n",
              "\n",
              "  const next = steps.next(outputElement.lastPromiseValue);\n",
              "  return Promise.resolve(next.value.promise).then((value) => {\n",
              "    // Cache the last promise value to make it available to the next\n",
              "    // step of the generator.\n",
              "    outputElement.lastPromiseValue = value;\n",
              "    return next.value.response;\n",
              "  });\n",
              "}\n",
              "\n",
              "/**\n",
              " * Generator function which is called between each async step of the upload\n",
              " * process.\n",
              " * @param {string} inputId Element ID of the input file picker element.\n",
              " * @param {string} outputId Element ID of the output display.\n",
              " * @return {!Iterable<!Object>} Iterable of next steps.\n",
              " */\n",
              "function* uploadFilesStep(inputId, outputId) {\n",
              "  const inputElement = document.getElementById(inputId);\n",
              "  inputElement.disabled = false;\n",
              "\n",
              "  const outputElement = document.getElementById(outputId);\n",
              "  outputElement.innerHTML = '';\n",
              "\n",
              "  const pickedPromise = new Promise((resolve) => {\n",
              "    inputElement.addEventListener('change', (e) => {\n",
              "      resolve(e.target.files);\n",
              "    });\n",
              "  });\n",
              "\n",
              "  const cancel = document.createElement('button');\n",
              "  inputElement.parentElement.appendChild(cancel);\n",
              "  cancel.textContent = 'Cancel upload';\n",
              "  const cancelPromise = new Promise((resolve) => {\n",
              "    cancel.onclick = () => {\n",
              "      resolve(null);\n",
              "    };\n",
              "  });\n",
              "\n",
              "  // Wait for the user to pick the files.\n",
              "  const files = yield {\n",
              "    promise: Promise.race([pickedPromise, cancelPromise]),\n",
              "    response: {\n",
              "      action: 'starting',\n",
              "    }\n",
              "  };\n",
              "\n",
              "  cancel.remove();\n",
              "\n",
              "  // Disable the input element since further picks are not allowed.\n",
              "  inputElement.disabled = true;\n",
              "\n",
              "  if (!files) {\n",
              "    return {\n",
              "      response: {\n",
              "        action: 'complete',\n",
              "      }\n",
              "    };\n",
              "  }\n",
              "\n",
              "  for (const file of files) {\n",
              "    const li = document.createElement('li');\n",
              "    li.append(span(file.name, {fontWeight: 'bold'}));\n",
              "    li.append(span(\n",
              "        `(${file.type || 'n/a'}) - ${file.size} bytes, ` +\n",
              "        `last modified: ${\n",
              "            file.lastModifiedDate ? file.lastModifiedDate.toLocaleDateString() :\n",
              "                                    'n/a'} - `));\n",
              "    const percent = span('0% done');\n",
              "    li.appendChild(percent);\n",
              "\n",
              "    outputElement.appendChild(li);\n",
              "\n",
              "    const fileDataPromise = new Promise((resolve) => {\n",
              "      const reader = new FileReader();\n",
              "      reader.onload = (e) => {\n",
              "        resolve(e.target.result);\n",
              "      };\n",
              "      reader.readAsArrayBuffer(file);\n",
              "    });\n",
              "    // Wait for the data to be ready.\n",
              "    let fileData = yield {\n",
              "      promise: fileDataPromise,\n",
              "      response: {\n",
              "        action: 'continue',\n",
              "      }\n",
              "    };\n",
              "\n",
              "    // Use a chunked sending to avoid message size limits. See b/62115660.\n",
              "    let position = 0;\n",
              "    do {\n",
              "      const length = Math.min(fileData.byteLength - position, MAX_PAYLOAD_SIZE);\n",
              "      const chunk = new Uint8Array(fileData, position, length);\n",
              "      position += length;\n",
              "\n",
              "      const base64 = btoa(String.fromCharCode.apply(null, chunk));\n",
              "      yield {\n",
              "        response: {\n",
              "          action: 'append',\n",
              "          file: file.name,\n",
              "          data: base64,\n",
              "        },\n",
              "      };\n",
              "\n",
              "      let percentDone = fileData.byteLength === 0 ?\n",
              "          100 :\n",
              "          Math.round((position / fileData.byteLength) * 100);\n",
              "      percent.textContent = `${percentDone}% done`;\n",
              "\n",
              "    } while (position < fileData.byteLength);\n",
              "  }\n",
              "\n",
              "  // All done.\n",
              "  yield {\n",
              "    response: {\n",
              "      action: 'complete',\n",
              "    }\n",
              "  };\n",
              "}\n",
              "\n",
              "scope.google = scope.google || {};\n",
              "scope.google.colab = scope.google.colab || {};\n",
              "scope.google.colab._files = {\n",
              "  _uploadFiles,\n",
              "  _uploadFilesContinue,\n",
              "};\n",
              "})(self);\n",
              "</script> "
            ]
          },
          "metadata": {}
        },
        {
          "output_type": "stream",
          "name": "stdout",
          "text": [
            "Saving Metro_Interstate_Traffic_Volume.csv to Metro_Interstate_Traffic_Volume.csv\n"
          ]
        }
      ]
    },
    {
      "cell_type": "code",
      "source": [
        "df = pd.read_csv(\"Metro_Interstate_Traffic_Volume.csv\")\n",
        "\n",
        "# Extract datetime features\n",
        "df['date_time'] = pd.to_datetime(df['date_time'])\n",
        "df['hour'] = df['date_time'].dt.hour\n",
        "df['day_of_week'] = df['date_time'].dt.dayofweek\n"
      ],
      "metadata": {
        "id": "kfpetjABDiLe"
      },
      "execution_count": 14,
      "outputs": []
    },
    {
      "cell_type": "code",
      "source": [
        "np.random.seed(42)\n",
        "df['distance_km'] = np.random.uniform(5, 25, len(df))\n",
        "df['avg_speed'] = np.random.uniform(10, 60, len(df))\n",
        "df['travel_time_min'] = df['distance_km'] / df['avg_speed'] * 60\n",
        "\n",
        "def custom_label(speed):\n",
        "    if speed < 20:\n",
        "        return 0\n",
        "    elif speed > 45:\n",
        "        return 1\n",
        "    else:\n",
        "        return np.random.choice([0, 1])\n",
        "\n",
        "df['favorable'] = df['avg_speed'].apply(custom_label)\n"
      ],
      "metadata": {
        "id": "vxUYH4lZDlJz"
      },
      "execution_count": 22,
      "outputs": []
    },
    {
      "cell_type": "code",
      "source": [
        "# Simulated weather features\n",
        "df['temp'] = 295.0\n",
        "df['rain_1h'] = 0.0\n",
        "df['snow_1h'] = 0.0\n",
        "df['clouds_all'] = 20.0\n",
        "\n",
        "# Train ML model\n",
        "features = ['hour', 'day_of_week', 'temp', 'rain_1h', 'snow_1h', 'clouds_all', 'avg_speed']\n",
        "target = 'favorable'\n",
        "\n",
        "df = df.dropna(subset=features + [target])\n",
        "X = df[features]\n",
        "y = df[target]\n",
        "\n",
        "X_train, X_test, y_train, y_test = train_test_split(X, y, test_size=0.2, random_state=42)\n",
        "rf = RandomForestClassifier(n_estimators=100, random_state=42)\n",
        "rf.fit(X_train, y_train)\n",
        "\n",
        "print(\"✅ Accuracy:\", accuracy_score(y_test, rf.predict(X_test)))\n",
        "print(classification_report(y_test, rf.predict(X_test)))\n"
      ],
      "metadata": {
        "colab": {
          "base_uri": "https://localhost:8080/"
        },
        "id": "IzoGxvFaDsuE",
        "outputId": "5985c695-0bf1-49dd-c1c0-0151a0212b7a"
      },
      "execution_count": 23,
      "outputs": [
        {
          "output_type": "stream",
          "name": "stdout",
          "text": [
            "✅ Accuracy: 0.7516855098018878\n",
            "              precision    recall  f1-score   support\n",
            "\n",
            "           0       0.72      0.73      0.72      4346\n",
            "           1       0.77      0.77      0.77      5295\n",
            "\n",
            "    accuracy                           0.75      9641\n",
            "   macro avg       0.75      0.75      0.75      9641\n",
            "weighted avg       0.75      0.75      0.75      9641\n",
            "\n"
          ]
        }
      ]
    },
    {
      "cell_type": "code",
      "source": [
        "def show_favorability_gauge(score):\n",
        "    fig, ax = plt.subplots(figsize=(6, 3))\n",
        "    ax.set_xlim(0, 1)\n",
        "    ax.set_ylim(0, 1)\n",
        "    ax.axis('off')\n",
        "\n",
        "    theta = np.linspace(np.pi, 0, 100)\n",
        "    r = 0.4\n",
        "    x = 0.5 + r * np.cos(theta)\n",
        "    y = 0.1 + r * np.sin(theta)\n",
        "    ax.plot(x, y, color='gray', linewidth=10)\n",
        "\n",
        "    angle = np.pi * (1 - score)\n",
        "    x_needle = 0.5 + r * np.cos(angle)\n",
        "    y_needle = 0.1 + r * np.sin(angle)\n",
        "    ax.plot([0.5, x_needle], [0.1, y_needle], color='red', linewidth=3)\n",
        "\n",
        "    ax.text(0.5, 0.85, \"Favorability Index\", ha='center', fontsize=14)\n",
        "    ax.text(0.1, 0.0, \"0 (Bad)\", ha='center')\n",
        "    ax.text(0.9, 0.0, \"1 (Good)\", ha='center')\n",
        "    ax.text(0.5, 0.0, f\"{score:.2f}\", ha='center', fontsize=12, fontweight='bold')\n",
        "    plt.show()\n"
      ],
      "metadata": {
        "id": "yjYxWOtYD4p0"
      },
      "execution_count": 24,
      "outputs": []
    },
    {
      "cell_type": "code",
      "source": [
        "def get_osrm_data_and_predict(origin, destination, model):\n",
        "    # Get route info from OSRM\n",
        "    url = f\"http://router.project-osrm.org/route/v1/driving/{origin[1]},{origin[0]};{destination[1]},{destination[0]}?overview=false\"\n",
        "    response = requests.get(url)\n",
        "    data = response.json()\n",
        "\n",
        "    if 'routes' not in data:\n",
        "        print(\"❌ No route found.\")\n",
        "        return\n",
        "\n",
        "    travel_time = data['routes'][0]['duration'] / 60\n",
        "    distance = data['routes'][0]['distance'] / 1000\n",
        "    avg_speed = distance / (travel_time / 60)\n",
        "\n",
        "    now = datetime.datetime.now()\n",
        "    hour = now.hour\n",
        "    day_of_week = now.weekday()\n",
        "\n",
        "    # Simulated weather features\n",
        "    temp = 295.0\n",
        "    rain = 0.0\n",
        "    snow = 0.0\n",
        "    clouds = 20.0\n",
        "\n",
        "    features = {\n",
        "        \"hour\": hour,\n",
        "        \"day_of_week\": day_of_week,\n",
        "        \"temp\": temp,\n",
        "        \"rain_1h\": rain,\n",
        "        \"snow_1h\": snow,\n",
        "        \"clouds_all\": clouds,\n",
        "        \"avg_speed\": avg_speed\n",
        "    }\n",
        "\n",
        "    input_df = pd.DataFrame([features])\n",
        "    prediction = model.predict(input_df)[0]\n",
        "    proba = model.predict_proba(input_df)[0][1]\n",
        "\n",
        "    print(\"🔍 Input Features:\")\n",
        "    for k, v in features.items():\n",
        "        print(f\"{k}: {v:.2f}\")\n",
        "\n",
        "    print(f\"\\nPrediction: {'✅ Favorable' if prediction == 1 else '⚠️ Unfavorable'}\")\n",
        "    print(f\"Favorability Index: {proba:.2f}\")\n",
        "    print(f\"Distance: {distance:.2f} km\")\n",
        "    print(f\"Travel Time: {travel_time:.2f} min\")\n",
        "\n",
        "    show_favorability_gauge(proba)\n"
      ],
      "metadata": {
        "id": "NGHFLBykD79L"
      },
      "execution_count": 25,
      "outputs": []
    },
    {
      "cell_type": "code",
      "source": [
        "# ✅ Pasadena → LA Test Route\n",
        "origin = (34.1478, -118.1445)       # Pasadena City Hall\n",
        "destination = (34.0537, -118.2428)  # LA City Hall\n",
        "\n",
        "get_osrm_data_and_predict(origin, destination, rf)\n"
      ],
      "metadata": {
        "colab": {
          "base_uri": "https://localhost:8080/",
          "height": 509
        },
        "id": "2k-snMk1D_4g",
        "outputId": "a499e9b0-6503-49ff-f096-8682e88e142a"
      },
      "execution_count": 26,
      "outputs": [
        {
          "output_type": "stream",
          "name": "stdout",
          "text": [
            "🔍 Input Features:\n",
            "hour: 18.00\n",
            "day_of_week: 3.00\n",
            "temp: 295.00\n",
            "rain_1h: 0.00\n",
            "snow_1h: 0.00\n",
            "clouds_all: 20.00\n",
            "avg_speed: 58.88\n",
            "\n",
            "Prediction: ✅ Favorable\n",
            "Favorability Index: 1.00\n",
            "Distance: 17.24 km\n",
            "Travel Time: 17.57 min\n"
          ]
        },
        {
          "output_type": "display_data",
          "data": {
            "text/plain": [
              "<Figure size 600x300 with 1 Axes>"
            ],
            "image/png": "[encoded data removed]"
          },
          "metadata": {}
        }
      ]
    }
  ]
}